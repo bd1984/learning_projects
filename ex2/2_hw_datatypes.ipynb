{
 "cells": [
  {
   "cell_type": "code",
   "execution_count": 44,
   "metadata": {},
   "outputs": [
    {
     "name": "stdout",
     "output_type": "stream",
     "text": [
      "t\n"
     ]
    }
   ],
   "source": [
    "# Задание 1\n",
    "\n",
    "string = 'testing'\n",
    "\n",
    "if len(string) % 2 == 0:\n",
    "    i = int(len(string) / 2)\n",
    "    print (string[i-1 : i+1])\n",
    "else:\n",
    "    i = int((len(string) / 2) - 0.5)\n",
    "    print (string[i])"
   ]
  },
  {
   "cell_type": "code",
   "execution_count": 45,
   "metadata": {},
   "outputs": [
    {
     "name": "stdout",
     "output_type": "stream",
     "text": [
      "Введите число: \n",
      "44\n",
      "Введите число: \n",
      "23\n",
      "Введите число: \n",
      "0\n",
      "Результат: \n",
      " 67\n"
     ]
    }
   ],
   "source": [
    "# Задание 2\n",
    "\n",
    "number = int(input('Введите число: \\n'))\n",
    "total = 0\n",
    "\n",
    "while number != 0:\n",
    "    total += number \n",
    "    number = int(input('Введите число: \\n'))\n",
    "\n",
    "print('Результат: \\n', total)"
   ]
  },
  {
   "cell_type": "code",
   "execution_count": 46,
   "metadata": {},
   "outputs": [
    {
     "name": "stdout",
     "output_type": "stream",
     "text": [
      "Идеальные пары: \n",
      "Alex и Emma\n",
      "Arthur и Kate\n",
      "John и Kira\n",
      "Michail и Liza\n",
      "Peter и Megan\n",
      "Richard и Trisha\n"
     ]
    }
   ],
   "source": [
    "# Задание № 3\n",
    "\n",
    "boys = ['Peter', 'Alex', 'John', 'Arthur', 'Richard', 'Michail']\n",
    "girls = ['Kate', 'Liza', 'Kira', 'Emma', 'Trisha', 'Megan']\n",
    "\n",
    "if len(boys) == len(girls):\n",
    "    ideal_pairs = zip(sorted(boys), sorted(girls))\n",
    "    print('Идеальные пары: ')\n",
    "    for boys in ideal_pairs:\n",
    "        print (boys[0], 'и', boys[1])\n",
    "else:\n",
    "    print('Внимание, кто-то может остаться без пары!')"
   ]
  },
  {
   "cell_type": "code",
   "execution_count": 27,
   "metadata": {},
   "outputs": [
    {
     "name": "stdout",
     "output_type": "stream",
     "text": [
      "Средняя температура в странах: \n",
      "Thailand - 23.9 C\n",
      "Germany - 13.8 C\n",
      "Russia - 3.7 C\n",
      "Poland - 12.0 C\n"
     ]
    }
   ],
   "source": [
    "# Задание № 4\n",
    "\n",
    "countries_temperature = [\n",
    "['Thailand', [75.2, 77, 78.8, 73.4, 68, 75.2, 77]],\n",
    "['Germany', [57.2, 55.4, 59, 59, 53.6]],\n",
    "['Russia', [35.6, 37.4, 39.2, 41, 42.8, 39.2, 35.6]],\n",
    "['Poland', [50, 50, 53.6, 57.2, 55.4, 55.4]]\n",
    "]\n",
    "\n",
    "print('Средняя температура в странах: ')\n",
    "for country in countries_temperature:\n",
    "    total_temp = 0\n",
    "    for temp in country[1]:\n",
    "        temp = float(temp)\n",
    "        total_temp += temp\n",
    "        average_temp_c = (total_temp / len(country[1])-32)*5/9\n",
    "    print(country[0], '-', round(average_temp_c, 1), 'C')"
   ]
  },
  {
   "cell_type": "code",
   "execution_count": 47,
   "metadata": {},
   "outputs": [
    {
     "name": "stdout",
     "output_type": "stream",
     "text": [
      "Введите числа через пробел: 5 5 3 1 1 8 5 5 4 5 4 2\n",
      "1 4 5\n"
     ]
    }
   ],
   "source": [
    "# Задание 6\n",
    "# Аналог решения нашла в сети (поиск уникальных значений в строке). В результате ввода цифр с пробелами получаем строку.\n",
    "# Создаем пустой список и добавляем туда элементы, которые не являются пробелами и встречаются больше 1 раза.\n",
    "# Сортируем их по возрастанию.\n",
    "# Преобразуем список в строку, вид которой соответствует тому, что нужно вывести на печать.\n",
    "# Есть подозрение, что это не совсем то, что нужно, но оно работает :)\n",
    "\n",
    "user_input = input('Введите числа через пробел: ')\n",
    "\n",
    "unique_set = [] \n",
    "for item in user_input:\n",
    "    if item not in unique_set and item != ' ' and user_input.count(item) > 1:\n",
    "        unique_set.append(item)\n",
    "unique_set_order = sorted(unique_set)\n",
    "final_set = ' '.join(unique_set_order)\n",
    "print(final_set)"
   ]
  }
 ],
 "metadata": {
  "kernelspec": {
   "display_name": "Python 3",
   "language": "python",
   "name": "python3"
  },
  "language_info": {
   "codemirror_mode": {
    "name": "ipython",
    "version": 3
   },
   "file_extension": ".py",
   "mimetype": "text/x-python",
   "name": "python",
   "nbconvert_exporter": "python",
   "pygments_lexer": "ipython3",
   "version": "3.7.4"
  }
 },
 "nbformat": 4,
 "nbformat_minor": 2
}
