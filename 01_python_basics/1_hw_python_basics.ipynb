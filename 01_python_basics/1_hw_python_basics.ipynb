{
 "cells": [
  {
   "cell_type": "code",
   "execution_count": 63,
   "metadata": {},
   "outputs": [
    {
     "name": "stdout",
     "output_type": "stream",
     "text": [
      "Фраза 2 длиннее фразы 1\n"
     ]
    }
   ],
   "source": [
    "# Задание 1\n",
    "\n",
    "phrase_1 = 'должно хватить для любых задач. Билл Гейтс (по легенде)'\n",
    "phrase_2 = '640Кб должно хватить для любых задач. Билл Гейтс (по легенде)'\n",
    "\n",
    "if len(phrase_1) > len(phrase_2):\n",
    "    print ('Фраза 1 длиннее фразы 2')\n",
    "elif len(phrase_1) < len(phrase_2):\n",
    "    print ('Фраза 2 длиннее фразы 1')\n",
    "else: \n",
    "    print ('Фразы одинаковой длины')"
   ]
  },
  {
   "cell_type": "code",
   "execution_count": 64,
   "metadata": {},
   "outputs": [
    {
     "name": "stdout",
     "output_type": "stream",
     "text": [
      "Обычный год\n"
     ]
    }
   ],
   "source": [
    "# Задание 2\n",
    "\n",
    "year = 2006\n",
    "\n",
    "if year % 4 == 0 and year % 100 != 0:\n",
    "    print ('Високосный год')\n",
    "elif year % 400 == 0:\n",
    "    print ('Високосный год')\n",
    "else:\n",
    "    print ('Обычный год')"
   ]
  },
  {
   "cell_type": "code",
   "execution_count": 65,
   "metadata": {},
   "outputs": [
    {
     "name": "stdout",
     "output_type": "stream",
     "text": [
      "Введите день: 25\n",
      "Введите месяц: октябрь\n",
      "Ваш знак зодиака: Скорпион\n"
     ]
    }
   ],
   "source": [
    "# Задание 3\n",
    "\n",
    "day = int(input ('Введите день: '))\n",
    "month = str.lower(input ('Введите месяц: '))\n",
    "\n",
    "if (month == 'март' and day > 20) or (month == 'апрель' and day < 21):\n",
    "    print ('Ваш знак зодиака: Овен')\n",
    "elif (month == 'апрель' and day >= 21) or (month == 'май' and day < 21):\n",
    "    print ('Ваш знак зодиака: Телец')\n",
    "elif (month == 'май' and day >= 21) or (month == 'июнь' and day < 21):\n",
    "    print ('Ваш знак зодиака: Близнецы')\n",
    "elif (month == 'июнь' and day >= 21) or (month == 'июль' and day < 23):\n",
    "    print ('Ваш знак зодиака: Рак')\n",
    "elif (month == 'июль' and day >= 23) or (month == 'август' and day < 23):\n",
    "    print ('Ваш знак зодиака: Лев')\n",
    "elif (month == 'август' and day >= 23) or (month == 'сентябрь' and day < 23):\n",
    "    print ('Ваш знак зодиака: Дева')\n",
    "elif (month == 'сентябрь' and day >= 23) or (month == 'октябрь' and day < 23):\n",
    "    print ('Ваш знак зодиака: Весы')\n",
    "elif (month == 'октябрь' and day >= 23) or (month == 'ноябрь' and day < 23):\n",
    "    print ('Ваш знак зодиака: Скорпион')\n",
    "elif (month == 'ноябрь' and day >= 23) or (month == 'декабрь' and day < 22):\n",
    "    print ('Ваш знак зодиака: Стрелец')\n",
    "elif (month == 'декабрь' and day >= 22) or (month == 'январь' and day < 20):\n",
    "    print ('Ваш знак зодиака: Козерог')\n",
    "elif (month == 'январь' and day >= 20) or (month == 'февраль' and day < 20):\n",
    "    print ('Ваш знак зодиака: Водолей')\n",
    "else:\n",
    "    print ('Ваш знак зодиака: Рыбы')"
   ]
  },
  {
   "cell_type": "code",
   "execution_count": 94,
   "metadata": {},
   "outputs": [
    {
     "name": "stdout",
     "output_type": "stream",
     "text": [
      "Коробка № 2\n"
     ]
    }
   ],
   "source": [
    "# Задание 4\n",
    "\n",
    "width = 16\n",
    "length = 5\n",
    "height = 60\n",
    "\n",
    "if length > 200:\n",
    "    print ('Упаковка для лыж')    \n",
    "elif 15 <= width < 50 or 15 <= length < 50 or 15 <= height < 50: \n",
    "    print ('Коробка № 2')\n",
    "elif width < 15 and length < 15 and height < 15:\n",
    "    print ('Коробка № 1')\n",
    "else:\n",
    "    print ('Стандартная коробка № 3')"
   ]
  },
  {
   "cell_type": "code",
   "execution_count": 79,
   "metadata": {},
   "outputs": [
    {
     "name": "stdout",
     "output_type": "stream",
     "text": [
      "Введите тип фигуры: прямоугольник\n",
      "Введите длину стороны А: 5\n",
      "Введите длину стороны B: 6\n",
      "Площадь прямоугольника равна 30\n"
     ]
    }
   ],
   "source": [
    "# Задание 6\n",
    "\n",
    "type = str.lower(input ('Введите тип фигуры: '))\n",
    "\n",
    "if type == 'круг':\n",
    "    radius = int(input('Введите радиус круга: '))\n",
    "    square = 3.1415926535*(radius**2)\n",
    "    print ('Площадь круга равна', square)\n",
    "    \n",
    "if type == 'треугольник':\n",
    "    a = int(input('Введите длину стороны А: '))\n",
    "    b = int(input('Введите длину стороны B: '))\n",
    "    c = int(input('Введите длину стороны C: '))\n",
    "    p = (a + b + c)/2\n",
    "    square = (p*(p-a)*(p-b)*(p-c))**0.5\n",
    "    print ('Площадь треугольника равна', square)\n",
    "    \n",
    "if type == 'прямоугольник':\n",
    "    a = int(input('Введите длину стороны А: '))\n",
    "    b = int(input('Введите длину стороны B: '))\n",
    "    square = a * b\n",
    "    print ('Площадь прямоугольника равна', square)"
   ]
  },
  {
   "cell_type": "code",
   "execution_count": 84,
   "metadata": {},
   "outputs": [
    {
     "name": "stdout",
     "output_type": "stream",
     "text": [
      "Несчастливый билет\n"
     ]
    }
   ],
   "source": [
    "# Задание 5\n",
    "\n",
    "number = 360742\n",
    "number_str = str(number)\n",
    "a = int (number_str[0])\n",
    "b = int (number_str[1])\n",
    "c = int (number_str[2])\n",
    "d = int (number_str[3])\n",
    "e = int (number_str[4])\n",
    "f = int (number_str[5])\n",
    "if (a+b+c) == (d+e+f):\n",
    "    print('Счастливый билет')\n",
    "else:\n",
    "    print('Несчастливый билет')"
   ]
  }
 ],
 "metadata": {
  "kernelspec": {
   "display_name": "Python 3",
   "language": "python",
   "name": "python3"
  },
  "language_info": {
   "codemirror_mode": {
    "name": "ipython",
    "version": 3
   },
   "file_extension": ".py",
   "mimetype": "text/x-python",
   "name": "python",
   "nbconvert_exporter": "python",
   "pygments_lexer": "ipython3",
   "version": "3.7.4"
  }
 },
 "nbformat": 4,
 "nbformat_minor": 2
}
