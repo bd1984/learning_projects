{
 "cells": [
  {
   "cell_type": "markdown",
   "metadata": {},
   "source": [
    "### Задача 1"
   ]
  },
  {
   "cell_type": "code",
   "execution_count": 1,
   "metadata": {},
   "outputs": [
    {
     "name": "stdout",
     "output_type": "stream",
     "text": [
      "{98, 35, 15, 213, 54, 119}\n"
     ]
    }
   ],
   "source": [
    "ids = {\n",
    "    'user1': [213, 213, 213, 15, 213],\n",
    "    'user2': [54, 54, 119, 119, 119],\n",
    "    'user3': [213, 98, 98, 35]\n",
    "}\n",
    "# Создаем новый пустой список. Перебираем внутри его значения, т.к. у нас 2 уровня вложений, то используем 2 цикла, \n",
    "# чтобы вывести все в одноуровневом новом списке \n",
    "# обзываем список множеством, чтобы выкинуть дубли\n",
    "\n",
    "unique_ids = []\n",
    "\n",
    "for num in ids.values():\n",
    "    for i in num:\n",
    "        unique_ids.append(i)\n",
    "        \n",
    "print(set(unique_ids))"
   ]
  },
  {
   "cell_type": "markdown",
   "metadata": {},
   "source": [
    "### Задание 2"
   ]
  },
  {
   "cell_type": "code",
   "execution_count": 6,
   "metadata": {},
   "outputs": [
    {
     "name": "stdout",
     "output_type": "stream",
     "text": [
      "Поисковых запросов, содержащих 2 слов(а): 42.86 %\n",
      "Поисковых запросов, содержащих 3 слов(а): 57.14 %\n"
     ]
    }
   ],
   "source": [
    "queries = [\n",
    "'смотреть сериалы онлайн',\n",
    "'новости спорта',\n",
    "'афиша кино',\n",
    "'курс доллара',\n",
    "'сериалы этим летом',\n",
    "'курс по питону',\n",
    "'сериалы про спорт',\n",
    "]\n",
    "\n",
    "# Создаем новый пустой список length, в который будем добавлять результат перебора строк исходного списка - \n",
    "# кол-во слов в строке \n",
    "length = []\n",
    "\n",
    "for line in queries:\n",
    "    length.append(len(line.split(' ')))\n",
    "# Создаем пустой словарь, в который добавляем элементы в процессе перебора элементов списка length\n",
    "# Элемент назначаем ключом, а кол-во раз (которое он встречается) - значением\n",
    "# Сортируем и выводим на печать\n",
    "res_queries = {}\n",
    "for num in length:\n",
    "    if num in res_queries:\n",
    "         res_queries[num] += 1\n",
    "    else:\n",
    "        res_queries[num] = 1\n",
    "for num, count in sorted(res_queries.items()):\n",
    "    print(f'Поисковых запросов, содержащих {num} слов(а): {round(count/len(queries)*100, 2)} %')"
   ]
  },
  {
   "cell_type": "markdown",
   "metadata": {},
   "source": [
    "### Задание 3"
   ]
  },
  {
   "cell_type": "code",
   "execution_count": 14,
   "metadata": {},
   "outputs": [
    {
     "name": "stdout",
     "output_type": "stream",
     "text": [
      "adwords : {'revenue': 35, 'cost': 34, 'ROI': 2.9}\n",
      "facebook : {'revenue': 103, 'cost': 110, 'ROI': -6.4}\n",
      "twitter : {'revenue': 11, 'cost': 24, 'ROI': -54.2}\n",
      "vk : {'revenue': 103, 'cost': 98, 'ROI': 5.1}\n",
      "yandex : {'revenue': 179, 'cost': 153, 'ROI': 17.0}\n"
     ]
    }
   ],
   "source": [
    "results = {\n",
    "'vk': {'revenue': 103, 'cost': 98},\n",
    "'yandex': {'revenue': 179, 'cost': 153},\n",
    "'facebook': {'revenue': 103, 'cost': 110},\n",
    "'adwords': {'revenue': 35, 'cost': 34},\n",
    "'twitter': {'revenue': 11, 'cost': 24},\n",
    "}\n",
    "\n",
    "# перебираем словарь по парам ключ/значение и добавляем новое значение ROI \n",
    "for key, value in results.items():\n",
    "    value['ROI'] = round(((value['revenue']/value['cost']-1)*100), 1)\n",
    "    \n",
    "# еще раз перебираем цикл, чтобы отсортировать и напечатать ключи в алфавитном порядке    \n",
    "for k in sorted(results.keys()):\n",
    "    print (k, ':', results[k])\n",
    "    "
   ]
  },
  {
   "cell_type": "markdown",
   "metadata": {},
   "source": [
    "### Задание 4"
   ]
  },
  {
   "cell_type": "code",
   "execution_count": 239,
   "metadata": {},
   "outputs": [
    {
     "name": "stdout",
     "output_type": "stream",
     "text": [
      "Максимальный объем продаж на рекламном канале: vk\n"
     ]
    }
   ],
   "source": [
    "stats = {'facebook': 55, 'yandex': 115, 'vk': 120, 'google': 99, 'email': 42, 'ok': 98}\n",
    "\n",
    "Key_max = max(stats, key = stats.get)\n",
    "\n",
    "print(f'Максимальный объем продаж на рекламном канале: {Key_max}')\n"
   ]
  },
  {
   "cell_type": "markdown",
   "metadata": {},
   "source": [
    "## Задание 6"
   ]
  },
  {
   "cell_type": "code",
   "execution_count": 15,
   "metadata": {},
   "outputs": [
    {
     "name": "stdout",
     "output_type": "stream",
     "text": [
      "Введите количество порций: 4\n",
      " \n",
      "Сыр: 280 гр\n",
      "Томаты: 8 шт\n",
      "Огурцы: 80 гр\n",
      "Маслины: 40 гр\n",
      "Оливковое масло: 80 мл\n",
      "Салат: 40 гр\n",
      "Перец: 80 гр\n",
      "Колбаса: 120 гр\n",
      "Бекон: 120 гр\n",
      "Оливки: 40 гр\n",
      "Томаты: 80 гр\n",
      "Тесто: 400 гр\n",
      "Лимон: 4 шт\n",
      "Вода: 800 мл\n",
      "Сахар: 40 гр\n",
      "Лайм: 80 гр\n"
     ]
    }
   ],
   "source": [
    "portion = int(input('Введите количество порций: '))\n",
    "print(' ')\n",
    "\n",
    "cook_book = {\n",
    "'салат': [\n",
    "{'ingridient_name': 'сыр', 'quantity': 50, 'measure': 'гр'},\n",
    "{'ingridient_name': 'томаты', 'quantity': 2, 'measure': 'шт'},\n",
    "{'ingridient_name': 'огурцы', 'quantity': 20, 'measure': 'гр'},\n",
    "{'ingridient_name': 'маслины', 'quantity': 10, 'measure': 'гр'},\n",
    "{'ingridient_name': 'оливковое масло', 'quantity': 20, 'measure': 'мл'},\n",
    "{'ingridient_name': 'салат', 'quantity': 10, 'measure': 'гр'},\n",
    "{'ingridient_name': 'перец', 'quantity': 20, 'measure': 'гр'}\n",
    "],\n",
    "'пицца': [\n",
    "{'ingridient_name': 'сыр', 'quantity': 20, 'measure': 'гр'},\n",
    "{'ingridient_name': 'колбаса', 'quantity': 30, 'measure': 'гр'},\n",
    "{'ingridient_name': 'бекон', 'quantity': 30, 'measure': 'гр'},\n",
    "{'ingridient_name': 'оливки', 'quantity': 10, 'measure': 'гр'},\n",
    "{'ingridient_name': 'томаты', 'quantity': 20, 'measure': 'гр'},\n",
    "{'ingridient_name': 'тесто', 'quantity': 100, 'measure': 'гр'},\n",
    "],\n",
    "'лимонад': [\n",
    "{'ingridient_name': 'лимон', 'quantity': 1, 'measure': 'шт'},\n",
    "{'ingridient_name': 'вода', 'quantity': 200, 'measure': 'мл'},\n",
    "{'ingridient_name': 'сахар', 'quantity': 10, 'measure': 'гр'},\n",
    "{'ingridient_name': 'лайм', 'quantity': 20, 'measure': 'гр'},\n",
    "]\n",
    "}\n",
    "\n",
    "cooking = {}\n",
    "\n",
    "# сначала проходимся по рецептам и добавляем их в новый словарь (заодно проверяя, были ли уже такие ключи)\n",
    "# если были, то граммы суммируем\n",
    "# затем также с помощью цикла выводим элементы нового словаря на печать в нужном формате + умножение на кол-во ч-к\n",
    "\n",
    "for recipe in cook_book.items(): \n",
    "    \n",
    "    for item in recipe[1]:\n",
    "        if cooking.get((item['ingridient_name'], item['measure']), None)is None:\n",
    "            cooking[item['ingridient_name'], item['measure']] = item['quantity']\n",
    "        else:\n",
    "            cooking[item['ingridient_name'], item['measure']] += item['quantity']\n",
    "\n",
    "for i in cooking.items():\n",
    "    print(f'{i[0][0].capitalize()}: {i[1]*portion} {i[0][1]}')\n",
    "            \n",
    "            "
   ]
  },
  {
   "cell_type": "code",
   "execution_count": null,
   "metadata": {},
   "outputs": [],
   "source": []
  }
 ],
 "metadata": {
  "kernelspec": {
   "display_name": "Python 3",
   "language": "python",
   "name": "python3"
  },
  "language_info": {
   "codemirror_mode": {
    "name": "ipython",
    "version": 3
   },
   "file_extension": ".py",
   "mimetype": "text/x-python",
   "name": "python",
   "nbconvert_exporter": "python",
   "pygments_lexer": "ipython3",
   "version": "3.7.4"
  }
 },
 "nbformat": 4,
 "nbformat_minor": 2
}
