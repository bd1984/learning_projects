{
 "cells": [
  {
   "cell_type": "markdown",
   "metadata": {},
   "source": [
    "### дз часть 1. \n",
    "Мой Юпитер ноутбук ругается, не может вынести 99999 записей в файле purchase_log. Поэтому в цикле стоит ограничение на кол-во записей для вывода. Но, если его убрать, то в purchases должен записаться весь файл."
   ]
  },
  {
   "cell_type": "code",
   "execution_count": 4,
   "metadata": {},
   "outputs": [
    {
     "name": "stdout",
     "output_type": "stream",
     "text": [
      "{'user_id': 'category', '1840e0b9d4': 'Продукты', '4e4f90fcfb': 'Электроника', 'afea8d72fc': 'Электроника', '373a6055fe': 'Бытовая техника', '9b2ab046f3': 'Электроника', '9f39d307c3': 'Электроника', '44edeffc91': 'Продукты', '704474fa2d': 'Продукты', '1de31be403': 'Бытовая техника', 'b71f36a5e4': 'Продукты', '79843a685a': 'Продукты', 'ff68cee0d6': 'Бытовая техника', 'e8447c40e2': 'Досуг', '98d290be27': 'Электроника', 'fa0079a5a8': 'Досуг', '22d2f03a17': 'Досуг', '3f8e1ccd3f': 'Электроника', '81a9988b83': 'Электроника', '65f44a2eb7': 'Досуг', '5f8fbb0149': 'Бытовая техника', '3ecff691fd': 'Электроника', 'dd0e912251': 'Электроника', '9250593d55': 'Электроника', '37c4e090e4': 'Электроника', '22fa3ea76f': 'Электроника', '73b876b237': 'Электроника', 'f983a69d67': 'Товары для животных', '4ea17212f8': 'Продукты', 'c6de96a5e2': 'Товары для животных', 'd8e3bcee53': 'Продукты', '680aa815f9': 'Продукты', '4a92a68cf9': 'Электроника', '905e60cb52': 'Бытовая техника', '393bcfb298': 'Продукты', '06d450cc57': 'Электроника', 'b60ce22f17': 'Электроника', '6f159c4c2e': 'Товары для животных', '564202f6bd': 'Электроника', '1908683775': 'Электроника', '8fd957a463': 'Продукты', '72e0a3f1d0': 'Бытовая техника', '7f5f56e517': 'Досуг', 'bc1a0a7e26': 'Досуг', '17639fe89d': 'Досуг', '74c9201f84': 'Электроника', 'bc4ebda0df': 'Досуг', 'fe4615dd15': 'Досуг', 'd2c560746d': 'Бытовая техника', 'f0a93d52d2': 'Электроника', 'fe52ded300': 'Электроника', 'dbe70d84e4': 'Строительство и ремонт', 'f660dbcc3f': 'Электроника', 'f93283c9ee': 'Бытовая техника', '66bea9bf58': 'Бытовая техника', '111c52d9bc': 'Продукты', '16dc76e94d': 'Электроника', '87f37b380c': 'Продукты', '830421d975': 'Продукты', '7d6c62f0a2': 'Бытовая техника', '77465a0b61': 'Бытовая техника', 'ee9eb52181': 'Товары для животных', '871c1fa9ae': 'Продукты', '03b91dba06': 'Электроника', '6cb42b2632': 'Бытовая техника', '9ab8f3bbb8': 'Бытовая техника', '63df9ee9d3': 'Электроника', '2ffd6c724d': 'Продукты', 'af24cffd03': 'Электроника', '421149bb9a': 'Строительство и ремонт', '24300c6d1c': 'Электроника', '9ca11a651f': 'Электроника', 'b7e640032f': 'Электроника', '3691ad282b': 'Электроника', '00ea2f7484': 'Электроника', '6f198ac1c9': 'Бытовая техника', '0d479d4259': 'Электроника', 'b461051101': 'Досуг', 'd39a1d56c3': 'Бытовая техника', '316ab03143': 'Товары для животных', '78ed39a415': 'Электроника', '19d1e4e036': 'Товары для животных', '9e765c6822': 'Продукты', 'ddd50eaa45': 'Электроника', 'c21b82499e': 'Электроника', 'da79d9ff30': 'Товары для животных', 'eded5c6792': 'Досуг', 'e3654c7f1a': 'Досуг', 'd20bf10c78': 'Бытовая техника', '12de58d8e6': 'Продукты', 'de85ea0eb6': 'Электроника', 'dfe6f4ebb4': 'Бытовая техника', '9d25ac3886': 'Досуг', 'd47dd8b814': 'Электроника', 'c5e1bf636a': 'Электроника', 'a86e69db63': 'Продукты', '91802f78b2': 'Электроника', '152ea9bb42': 'Бытовая техника', '06569907e6': 'Бытовая техника', '9f5bf9b73f': 'Строительство и ремонт', 'ec11793734': 'Продукты'}\n"
     ]
    }
   ],
   "source": [
    "import json\n",
    "purchases = {}\n",
    "i = 0\n",
    "with open('purchase_log.txt', 'r', encoding='utf-8') as f:\n",
    "    for line in f:\n",
    "        line = line.strip()\n",
    "        dict_ = json.loads(line)\n",
    "        purchases.update({dict_['user_id']: dict_['category']})\n",
    "        \n",
    "        i += 1\n",
    "        if i > 100:\n",
    "            break    \n",
    "print(purchases)\n",
    "        "
   ]
  },
  {
   "cell_type": "markdown",
   "metadata": {},
   "source": [
    "### дз часть 2. \n",
    "сначала с ограничениями на кол-во записей то, что будет записываться в итоговый файл. Потом сама запись файла. "
   ]
  },
  {
   "cell_type": "code",
   "execution_count": 9,
   "metadata": {},
   "outputs": [
    {
     "name": "stdout",
     "output_type": "stream",
     "text": [
      "user_id,source,category\n",
      "\n",
      "1840e0b9d4,other,Продукты\n",
      "\n",
      "4e4f90fcfb,context,Электроника\n",
      "\n",
      "afea8d72fc,other,Электроника\n",
      "\n",
      "2824221f38,email,Продукты\n",
      "\n",
      "373a6055fe,other,Бытовая техника\n",
      "\n",
      "9b2ab046f3,other,Электроника\n",
      "\n",
      "9f39d307c3,context,Электроника\n",
      "\n",
      "44edeffc91,context,Продукты\n",
      "\n",
      "704474fa2d,other,Продукты\n",
      "\n",
      "1de31be403,other,Бытовая техника\n",
      "\n"
     ]
    }
   ],
   "source": [
    "# проверка, что будет записываться в файл\n",
    "import json\n",
    "i = 0\n",
    "purchases = {}\n",
    "with open('purchase_log.txt', 'r', encoding='utf-8') as f:\n",
    "    for line in f:\n",
    "        line = line.strip()\n",
    "        dict_ = json.loads(line)\n",
    "        purchases.update({dict_['user_id']: dict_['category']})\n",
    "        i += 1\n",
    "                \n",
    "i = 0            \n",
    "fl = open('visit_log.csv', 'r', encoding='utf-8')\n",
    "for line in fl:\n",
    "    line1=line.strip()\n",
    "    user_id,source=line1.split(\",\")\n",
    "    if user_id in purchases:\n",
    "        line2 = line1+\",\"+ purchases[user_id] +\"\\n\"\n",
    "        print(line2)\n",
    "        i += 1\n",
    "  \n",
    "    if i > 10:\n",
    "        break  "
   ]
  },
  {
   "cell_type": "code",
   "execution_count": 10,
   "metadata": {},
   "outputs": [],
   "source": [
    "# запись файла\n",
    "import json\n",
    "purchases = {}\n",
    "i = 0\n",
    "with open('purchase_log.txt', 'r', encoding='utf-8') as f:\n",
    "    for line in f:\n",
    "        line = line.strip()\n",
    "        dict_ = json.loads(line)\n",
    "        purchases.update({dict_['user_id']: dict_['category']})\n",
    "        i += 1\n",
    "                \n",
    "i = 0            \n",
    "with open('visit_log.csv', 'r', encoding='utf-8') as fl:\n",
    "    with open('funnel.csv', 'w') as f2write:\n",
    "        for line in fl:\n",
    "            line1=line.strip()\n",
    "            user_id,source=line1.split(\",\")\n",
    "            if user_id in purchases:\n",
    "                line2 = line1+\",\"+ purchases[user_id] +\"\\n\"\n",
    "                f2write.write(line2)\n",
    "                i += 1"
   ]
  },
  {
   "cell_type": "code",
   "execution_count": null,
   "metadata": {},
   "outputs": [],
   "source": []
  }
 ],
 "metadata": {
  "kernelspec": {
   "display_name": "Python 3",
   "language": "python",
   "name": "python3"
  },
  "language_info": {
   "codemirror_mode": {
    "name": "ipython",
    "version": 3
   },
   "file_extension": ".py",
   "mimetype": "text/x-python",
   "name": "python",
   "nbconvert_exporter": "python",
   "pygments_lexer": "ipython3",
   "version": "3.7.4"
  }
 },
 "nbformat": 4,
 "nbformat_minor": 2
}
